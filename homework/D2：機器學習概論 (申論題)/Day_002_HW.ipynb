{
 "cells": [
  {
   "cell_type": "markdown",
   "metadata": {},
   "source": [
    "## [作業目標]\n",
    "了解機器學習適合應用的領域與範疇。"
   ]
  },
  {
   "cell_type": "markdown",
   "metadata": {},
   "source": [
    "## [作業重點]\n",
    "透過瞭解機器學習的運作方式，找出非常適用機器學習應用的領域及其原因"
   ]
  },
  {
   "cell_type": "markdown",
   "metadata": {},
   "source": [
    "## 作業\n",
    "請找出一個你認為機器學習可以發光發熱的領域並闡述原因? "
   ]
  },
  {
   "cell_type": "code",
   "execution_count": 1,
   "metadata": {},
   "outputs": [
    {
     "ename": "SyntaxError",
     "evalue": "invalid character in identifier (<ipython-input-1-896c5b42079b>, line 1)",
     "output_type": "error",
     "traceback": [
      "\u001b[1;36m  File \u001b[1;32m\"<ipython-input-1-896c5b42079b>\"\u001b[1;36m, line \u001b[1;32m1\u001b[0m\n\u001b[1;33m    我覺得機器學習可以在人力缺乏的「傳統產業」發光發熱。\u001b[0m\n\u001b[1;37m                             ^\u001b[0m\n\u001b[1;31mSyntaxError\u001b[0m\u001b[1;31m:\u001b[0m invalid character in identifier\n"
     ]
    }
   ],
   "source": [
    "我覺得機器學習可以在人力缺乏的「傳統產業」發光發熱。\n",
    "以「紡織業」為例，在製作布料的最後一個環節時，需要進行一道檢驗的工作。\n",
    "這項工作非常重要，因為當最後的布料有瑕疵時是無法再製作成服飾的，若有瑕疵就會整捆被退回。\n",
    "\n",
    "但是「驗布」這道手續目前都還是只能依靠人力去執行，故在這幾年大量缺乏專業的驗布師。\n",
    "\n",
    "其主要原因在於驗布時需要人眼並搭配強力照明光源的環境下進行，檢驗四十分鐘就要休息。\n",
    "長期下來除了造成相關的職業傷害之外，也較少人願意投入這樣的行業，即使月薪高達8萬也乏人問津。\n",
    "\n",
    "所幸在這幾前除了演算法的突破及邊綠裝置的成熟發展下，訓練機器認識瑕疪己經不是不可能的事了。\n",
    "在AOI帶來的貢獻下，開始讓這類的需要依賴大量人力並執行具有固定模式的任務開始轉變成透過機器來執行。\n",
    "\n",
    "除了可以24/7全年無休的生產之外，檢驗的速度與準確度也是遠遠高於人類，整體產能便提升不少。"
   ]
  },
  {
   "cell_type": "code",
   "execution_count": null,
   "metadata": {},
   "outputs": [],
   "source": []
  }
 ],
 "metadata": {
  "kernelspec": {
   "display_name": "Python 3",
   "language": "python",
   "name": "python3"
  },
  "language_info": {
   "codemirror_mode": {
    "name": "ipython",
    "version": 3
   },
   "file_extension": ".py",
   "mimetype": "text/x-python",
   "name": "python",
   "nbconvert_exporter": "python",
   "pygments_lexer": "ipython3",
   "version": "3.7.4"
  }
 },
 "nbformat": 4,
 "nbformat_minor": 2
}
