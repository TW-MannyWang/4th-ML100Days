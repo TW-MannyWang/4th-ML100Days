{
 "cells": [
  {
   "cell_type": "markdown",
   "metadata": {},
   "source": [
    "## [作業目標]\n",
    "持續接觸有關機器學習的相關專案與最新技術"
   ]
  },
  {
   "cell_type": "markdown",
   "metadata": {},
   "source": [
    "## [作業重點]\n",
    "透過觀察頂尖公司的機器學習文章，來了解各公司是怎麼應用機器學習在實際的專案上"
   ]
  },
  {
   "cell_type": "markdown",
   "metadata": {},
   "source": [
    "## [作業]\n",
    "今天的作業希望大家能夠看看全球機器學習巨頭們在做的機器學習專案。以 google 為例，下圖是 Google 內部專案使用機器學習的數量，隨著時間進展，現在早已超過 2000 個專案在使用機器學習。"
   ]
  },
  {
   "cell_type": "markdown",
   "metadata": {},
   "source": [
    "![image](https://cdn-images-1.medium.com/max/800/1*U_L8qI8RmYS-MOBrYvXhSA.png)"
   ]
  },
  {
   "cell_type": "markdown",
   "metadata": {},
   "source": [
    "底下幫同學整理幾間知名企業的 blog 或機器學習網站 (自行搜尋也可)，這些網站都會整理最新的機器學習專案或者是技術文章，請挑選一篇文章閱讀並試著回答\n",
    "1. 專案的目標？ (要解決什麼問題）\n",
    "2. 使用的技術是？ (只需知道名稱即可，例如：使用 CNN 卷積神經網路做影像分類)\n",
    "3. 資料來源？ "
   ]
  },
  {
   "cell_type": "markdown",
   "metadata": {},
   "source": [
    "- [Google AI blog](https://ai.googleblog.com/)\n",
    "- [Facebook Research blog](https://research.fb.com/blog/)\n",
    "- [Apple machine learning journal](https://machinelearning.apple.com/)\n",
    "- [機器之心](https://www.jiqizhixin.com/)\n",
    "- [雷鋒網](http://www.leiphone.com/category/ai)"
   ]
  },
  {
   "cell_type": "code",
   "execution_count": 1,
   "metadata": {},
   "outputs": [
    {
     "ename": "SyntaxError",
     "evalue": "invalid character in identifier (<ipython-input-1-f355b87f6b04>, line 1)",
     "output_type": "error",
     "traceback": [
      "\u001b[1;36m  File \u001b[1;32m\"<ipython-input-1-f355b87f6b04>\"\u001b[1;36m, line \u001b[1;32m1\u001b[0m\n\u001b[1;33m    我挑選的文章是來自於機器之心的「四天三夜横穿疫区千里,两个中国人把AI新冠方案送到意大利人手里」。\u001b[0m\n\u001b[1;37m                             ^\u001b[0m\n\u001b[1;31mSyntaxError\u001b[0m\u001b[1;31m:\u001b[0m invalid character in identifier\n"
     ]
    }
   ],
   "source": [
    "我挑選的文章是來自於機器之心的「四天三夜横穿疫区千里,两个中国人把AI新冠方案送到意大利人手里」。\n",
    "\n",
    "1. 專案的目標？ (要解決什麼問題）\n",
    "Ans: 此專案的目標是快速部署「肺炎智能辅助筛查和疫情监测系统」來協助醫院快速找到潛在病患並作預防措施。\n",
    "           \n",
    "           \n",
    "2. 使用的技術是？ (只需知道名稱即可，例如：使用 CNN 卷積神經網路做影像分類)\n",
    "Ans: 文中提到「推想致力于应用深度学习技术为医疗影像辅助筛查提供解决方案，自主研发智能医疗影像系统 INFERVISION，应用场景覆盖 X 光、CT、病理影像等领域，2020 年初，推想医疗人工智能产品 InferRead 获得欧盟医疗器械 CE 认证，该认证是目前中国胸部 AI 产品首个 CE 认证。」，\n",
    "     由此可知其中包含使用類例CNN的技術作影像分類。\n",
    "           \n",
    "3. 資料來源？\n",
    "Ans: 文中提到「据了解，这套系统在研发过程中，与武汉同济医院进行深度合作，医院通过提供武汉地区典型的病例数据帮助推想训练模型，是源于武汉疫情一线的真实病例，再应用于一线的产品。」，\n",
    "     故可以了解可以在這麼短時間將系統上線主要是因為新冠肺炎的模型己經在先前和武漢同濟醫院合作時就訓練完成，後續在部署上才會這麼快速。"
   ]
  },
  {
   "cell_type": "code",
   "execution_count": null,
   "metadata": {},
   "outputs": [],
   "source": []
  }
 ],
 "metadata": {
  "kernelspec": {
   "display_name": "Python 3",
   "language": "python",
   "name": "python3"
  },
  "language_info": {
   "codemirror_mode": {
    "name": "ipython",
    "version": 3
   },
   "file_extension": ".py",
   "mimetype": "text/x-python",
   "name": "python",
   "nbconvert_exporter": "python",
   "pygments_lexer": "ipython3",
   "version": "3.7.4"
  }
 },
 "nbformat": 4,
 "nbformat_minor": 2
}
