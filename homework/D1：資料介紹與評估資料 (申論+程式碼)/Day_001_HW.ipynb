{
 "cells": [
  {
   "cell_type": "markdown",
   "metadata": {},
   "source": [
    "## 練習時間\n",
    "#### 請寫一個函式用來計算 Mean Square Error\n",
    "$ MSE = \\frac{1}{n}\\sum_{i=1}^{n}{(Y_i - \\hat{Y}_i)^2} $\n",
    "\n",
    "### Hint: [如何取平方](https://googoodesign.gitbooks.io/-ezpython/unit-1.html)"
   ]
  },
  {
   "cell_type": "markdown",
   "metadata": {},
   "source": [
    "# [作業目標]\n",
    "- 仿造範例的MAE函數, 自己寫一個MSE函數(參考上面公式)"
   ]
  },
  {
   "cell_type": "markdown",
   "metadata": {},
   "source": [
    "# [作業重點]\n",
    "- 注意程式的縮排\n",
    "- 是否能將數學公式, 轉換為 Python 的函式組合? (In[2], Out[2])"
   ]
  },
  {
   "cell_type": "code",
   "execution_count": 7,
   "metadata": {},
   "outputs": [],
   "source": [
    "# 載入基礎套件與代稱\n",
    "import numpy as np\n",
    "import matplotlib.pyplot as plt"
   ]
  },
  {
   "cell_type": "code",
   "execution_count": 8,
   "metadata": {},
   "outputs": [],
   "source": [
    "def mean_absolute_error(y, yp):\n",
    "    \"\"\"\n",
    "    計算 MAE\n",
    "    Args:\n",
    "        - y: 實際值\n",
    "        - yp: 預測值\n",
    "    Return:\n",
    "        - mae: MAE\n",
    "    \"\"\"\n",
    "    mae = MAE = sum(abs(y - yp)) / len(y)\n",
    "    return mae\n",
    "\n",
    "# 定義 mean_squared_error 這個函數, 計算並傳回 MSE\n",
    "def mean_squared_error(y, yp):\n",
    "    \"\"\"\n",
    "    請完成這個 Function 後往下執行\n",
    "    \"\"\"\n",
    "    mse = MSE = sum((y - yp) ** 2) / len(y)\n",
    "    return mse"
   ]
  },
  {
   "cell_type": "code",
   "execution_count": 9,
   "metadata": {},
   "outputs": [
    {
     "data": {
      "image/png": "[encoded data removed]",
      "text/plain": [
       "<Figure size 432x288 with 1 Axes>"
      ]
     },
     "metadata": {
      "needs_background": "light"
     },
     "output_type": "display_data"
    }
   ],
   "source": [
    "# 與範例相同, 不另外解說\n",
    "w = 3\n",
    "b = 0.5\n",
    "x_lin = np.linspace(0, 100, 101)\n",
    "y = (x_lin + np.random.randn(101) * 5) * w + b\n",
    "\n",
    "plt.plot(x_lin, y, 'b.', label = 'data points')\n",
    "plt.title(\"Assume we have data points\")\n",
    "plt.legend(loc = 2)\n",
    "plt.show()"
   ]
  },
  {
   "cell_type": "code",
   "execution_count": 10,
   "metadata": {},
   "outputs": [
    {
     "data": {
      "image/png": "[encoded data removed]",
      "text/plain": [
       "<Figure size 432x288 with 1 Axes>"
      ]
     },
     "metadata": {
      "needs_background": "light"
     },
     "output_type": "display_data"
    }
   ],
   "source": [
    "# 與範例相同, 不另外解說\n",
    "y_hat = x_lin * w + b\n",
    "plt.plot(x_lin, y, 'b.', label = 'data')\n",
    "plt.plot(x_lin, y_hat, 'r-', label = 'prediction')\n",
    "plt.title(\"Assume we have data points (And the prediction)\")\n",
    "plt.legend(loc = 2)\n",
    "plt.show()"
   ]
  },
  {
   "cell_type": "code",
   "execution_count": 11,
   "metadata": {},
   "outputs": [
    {
     "name": "stdout",
     "output_type": "stream",
     "text": [
      "The Mean squared error is 238.181\n",
      "The Mean absolute error is 11.648\n"
     ]
    }
   ],
   "source": [
    "# 執行 Function, 確認有沒有正常執行\n",
    "MSE = mean_squared_error(y, y_hat)\n",
    "MAE = mean_absolute_error(y, y_hat)\n",
    "print(\"The Mean squared error is %.3f\" % (MSE))\n",
    "print(\"The Mean absolute error is %.3f\" % (MAE))"
   ]
  },
  {
   "cell_type": "markdown",
   "metadata": {},
   "source": [
    "# [作業2]\n",
    "\n",
    "請上 Kaggle, 在 Competitions 或 Dataset 中找一組競賽或資料並寫下：\n",
    "\n",
    "1. 你選的這組資料為何重要\n",
    "```\n",
    "Ans: 我選的資料為「Novel Corona Virus 2019 Dataset」，其原因為這是一件正在持續發生的事情，並且與全球人類息息相關，若可以將這些原始資料作視覺化、圖表分析等處理，將會讓人類可以更快了解與掌控並且設計出最適當的解決方法。\n",
    "```\n",
    "\n",
    "2. 資料從何而來 (tips: 譬如提供者是誰、以什麼方式蒐集)\n",
    "```\n",
    "Ans: 這是由「Johns Hopkins university」透過Google線上文件建檔而成。至於內容我想應該還是脫離不了人工方法輸入，這也是目前AI在蒐集資料的挑戰之一。\n",
    "```\n",
    "\n",
    "3. 蒐集而來的資料型態為何\n",
    "```\n",
    "Ans: 資料型態為一筆筆的文字記錄，即為確診病例資料，包含確診時間與地點。\n",
    "```\n",
    "\n",
    "4. 這組資料想解決的問題如何評估\n",
    "```\n",
    "Ans: 首先，我覺得這組資料想解決的問題為將原本純文字的統計資料作視覺化與統計分析，即為讓全世界人類了解目前新冠肺炎的影響範圍(地區)與實際影響人類的程度(確診人數)，更簡單的說法應該是讓全世界人類了解新冠肺炎目前是否被控制；故回來題目「這組資料想解決的問題如何評估」可以表示如何評估說這組資料真的可以被全世界人類拿來作為新冠肺炎的了解依據，這樣就如同「如何評估Google真的可以被全世界拿來作為搜尋任何資料、資訊到知識的工具？」，我想可以透過「使用程度」與「衍生程面」來看，如果這組資料開始被\"Johns Hopkins university\"以外的人開始新增、維護甚至改善、優化則表示「使用程度」己經普及，又如果開始出現使用這組資料的「新冠肺炎役區查詢」、「旅遊建議指南」等等相關創新應用或服務的產生，那就可以表現這組資料真的可以被全世界人類了解新冠肺炎的首要依據。\n",
    "```\n",
    "\n",
    "# [作業3]\n",
    "\n",
    "想像你經營一個自由載客車隊，你希望能透過數據分析以提升業績，請你思考並描述你如何規劃整體的分析/解決方案：\n",
    "\n",
    "1. 核心問題為何 (tips：如何定義 「提升業績 & 你的假設」)\n",
    "```\n",
    "Ans: 在一個自由載客載隊中，對於「提升業績」的方式有很多種。例如以開源節流的角度來看，可以透過附加價值的服務來提高收取的費用，像是指定車款、指定路線、餐點提供等個人化服務或是減少閒置時間與多餘的路程來減少成本。故若一開始就是希望以「數據分析」的方法來提升前面所謂的開源節流，我的想法是記錄所有載客資料，從叫車方式、攜帶物品、上車時間與地點、搭乘狀況、下車地點與時間、乘車費用與付款方式等實際資料，進而可以透過「人、事、時、地、物」五種元素來設計專屬的個人化服務。\n",
    "例如透過「人」的元素，可以找到忠誠度較高的乘客；透過「事」的元素，可以找到乘客叫車的原因，進而分析是否有規律；透過「時」的元素，可以找到一天的尖離峰時刻，進而規劃路線與減少空閒時間；透過「地」的元素，可以找到叫車高的地點，提高載客率；透過「物」的元素，可以提供睡枕、電影、音樂、KTV、咖啡等貼心服務或是折價券、點數累積換獎品等回饋活動。\n",
    "```\n",
    "\n",
    "2. 資料從何而來 (tips：哪些資料可能會對你想問的問題產生影響 & 資料如何蒐集)\n",
    "```\n",
    "若沒有自動化工具協助就只能載完一個客人自己作記錄；但如果像自己的平台像Uber的App，則可以過填寫乘車心得或感想送折價券或集點等誘因讓乘客自行回報。\n",
    "\n",
    "```\n",
    "\n",
    "\n",
    "3. 蒐集而來的資料型態為何\n",
    "```\n",
    "除了可以量化的資料(上車時間、下車時間、乘車費用)以外，皆是文字途述記錄在Google文件。\n",
    "```\n",
    "\n",
    "4. 你要回答的問題，其如何評估 (tips：你的假設如何驗證)\n",
    "```\n",
    "透過載客量、忠誠名單、空閒時間三項因素即可以分析客群與收入圖表，找到專屬自己的載客地圖。\n",
    "```"
   ]
  },
  {
   "cell_type": "code",
   "execution_count": null,
   "metadata": {},
   "outputs": [],
   "source": []
  }
 ],
 "metadata": {
  "anaconda-cloud": {},
  "kernelspec": {
   "display_name": "Python 3",
   "language": "python",
   "name": "python3"
  },
  "language_info": {
   "codemirror_mode": {
    "name": "ipython",
    "version": 3
   },
   "file_extension": ".py",
   "mimetype": "text/x-python",
   "name": "python",
   "nbconvert_exporter": "python",
   "pygments_lexer": "ipython3",
   "version": "3.7.4"
  }
 },
 "nbformat": 4,
 "nbformat_minor": 1
}
